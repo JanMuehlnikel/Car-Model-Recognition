{
 "cells": [
  {
   "cell_type": "code",
   "execution_count": 3,
   "metadata": {},
   "outputs": [
    {
     "name": "stdout",
     "output_type": "stream",
     "text": [
      "Device name: NVIDIA GeForce RTX 3050 Laptop GPU\n",
      "All available devices:\n",
      "PhysicalDevice(name='/physical_device:CPU:0', device_type='CPU')\n",
      "PhysicalDevice(name='/physical_device:GPU:0', device_type='GPU')\n"
     ]
    }
   ],
   "source": [
    "import tensorflow as tf\n",
    "import time\n",
    "\n",
    "physical_devices = tf.config.list_physical_devices('GPU')\n",
    "if physical_devices:\n",
    "    for device in physical_devices:\n",
    "        device_details = tf.config.experimental.get_device_details(device)\n",
    "        print(f\"Device name: {device_details['device_name']}\")\n",
    "else:\n",
    "    print(\"No GPU found\")\n",
    "\n",
    "# Alternatively, just print the devices\n",
    "print(\"All available devices:\")\n",
    "for device in tf.config.list_physical_devices():\n",
    "    print(device)"
   ]
  },
  {
   "cell_type": "code",
   "execution_count": 4,
   "metadata": {},
   "outputs": [
    {
     "name": "stdout",
     "output_type": "stream",
     "text": [
      "GPU: Time taken: 0.09 seconds\n",
      "CPU: Time taken: 3.42 seconds\n"
     ]
    }
   ],
   "source": [
    "matrix1 = tf.random.uniform([10000, 10000])\n",
    "matrix2 = tf.random.uniform([10000, 10000])\n",
    "\n",
    "# Perform matrix multiplication on the GPU\n",
    "with tf.device('/GPU:0'):\n",
    "    start = time.time()\n",
    "    result = tf.matmul(matrix1, matrix2)\n",
    "    end = time.time()\n",
    "    print(\"GPU: Time taken: {:.2f} seconds\".format(end - start))\n",
    "\n",
    "# Perform matrix multiplication on the CPU\n",
    "with tf.device('/CPU:0'):\n",
    "    start = time.time()\n",
    "    result = tf.matmul(matrix1, matrix2)\n",
    "    end = time.time()\n",
    "    print(\"CPU: Time taken: {:.2f} seconds\".format(end - start))"
   ]
  }
 ],
 "metadata": {
  "kernelspec": {
   "display_name": "CarEnv",
   "language": "python",
   "name": "python3"
  },
  "language_info": {
   "codemirror_mode": {
    "name": "ipython",
    "version": 3
   },
   "file_extension": ".py",
   "mimetype": "text/x-python",
   "name": "python",
   "nbconvert_exporter": "python",
   "pygments_lexer": "ipython3",
   "version": "3.10.12"
  }
 },
 "nbformat": 4,
 "nbformat_minor": 2
}
