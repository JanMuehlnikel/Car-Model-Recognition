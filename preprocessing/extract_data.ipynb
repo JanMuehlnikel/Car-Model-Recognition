{
 "cells": [
  {
   "cell_type": "markdown",
   "metadata": {},
   "source": [
    "# **Imports**"
   ]
  },
  {
   "cell_type": "code",
   "execution_count": 1,
   "metadata": {},
   "outputs": [],
   "source": [
    "import os\n",
    "from PIL import Image\n",
    "import shutil\n",
    "from tqdm import tqdm"
   ]
  },
  {
   "cell_type": "markdown",
   "metadata": {},
   "source": [
    "# **Extract Data**"
   ]
  },
  {
   "cell_type": "code",
   "execution_count": 2,
   "metadata": {},
   "outputs": [],
   "source": [
    "data = {\n",
    "    \"make\": [],\n",
    "    \"model\": [],\n",
    "    \"images\": []\n",
    "    }\n",
    "\n"
   ]
  },
  {
   "cell_type": "code",
   "execution_count": 3,
   "metadata": {},
   "outputs": [],
   "source": [
    "def gather_images(source_folder, destination_folder):\n",
    "    # create destination folder\n",
    "    os.makedirs(destination_folder, exist_ok=True)\n",
    "\n",
    "    for make in os.listdir(source_folder):\n",
    "        print(f\"Starting {make} ...\")\n",
    "        make_path = os.path.join(source_folder, make)\n",
    "        if os.path.isdir(make_path):\n",
    "            # iterate through makes\n",
    "            for series in os.listdir(make_path):\n",
    "                series_path = os.path.join(make_path, series)\n",
    "                # iterate through serieses\n",
    "                if os.path.isdir(series_path):\n",
    "                    for year in os.listdir(series_path):\n",
    "                        year_path = os.path.join(series_path, year)\n",
    "                        # iterate through years\n",
    "                        if os.path.isdir(year_path):    \n",
    "                            for color in os.listdir(year_path):\n",
    "                                color_path = os.path.join(year_path, color)\n",
    "                                # iterate through colors\n",
    "                                if os.path.isdir(color_path):\n",
    "                                    for file in os.listdir(color_path):\n",
    "                                        # add images to destination folder\n",
    "                                        if file.lower().endswith(('.png', '.jpg', '.jpeg', '.bmp', '.gif', '.tiff')):\n",
    "                                            try:\n",
    "                                                img_path = os.path.join(color_path, file)\n",
    "                                                img = Image.open(img_path)\n",
    "                                                img.verify()\n",
    "\n",
    "                                                shutil.copy(img_path, destination_folder)\n",
    "                                            except (IOError, SyntaxError) as e:\n",
    "                                                print(f\"Datei {file} ist kein gültiges Bild und wird übersprungen.\")\n",
    "                                else:\n",
    "                                    print(\"errror\")\n",
    "        else:\n",
    "            print(f\"dir not found {make_path}\")\n",
    "        \n",
    "        print(f\"Finished {make}!\")\n",
    "\n",
    "source_folder = '../src/data/dvm-car-models/makes'  \n",
    "destination_folder = '../src/extracted_data'  \n",
    "\n",
    "gather_images(source_folder, destination_folder)"
   ]
  }
 ],
 "metadata": {
  "kernelspec": {
   "display_name": "CarModelEnv",
   "language": "python",
   "name": "python3"
  },
  "language_info": {
   "codemirror_mode": {
    "name": "ipython",
    "version": 3
   },
   "file_extension": ".py",
   "mimetype": "text/x-python",
   "name": "python",
   "nbconvert_exporter": "python",
   "pygments_lexer": "ipython3",
   "version": "3.11.4"
  }
 },
 "nbformat": 4,
 "nbformat_minor": 2
}
